{
 "cells": [
  {
   "cell_type": "markdown",
   "id": "05d12abb-0ef2-4d26-a861-f35ef6c063fd",
   "metadata": {},
   "source": [
    "# Data Science Tools and Ecosystem"
   ]
  },
  {
   "cell_type": "markdown",
   "id": "904e25cf-f091-4339-94fe-3de71fd78915",
   "metadata": {},
   "source": [
    "In this notebook, Data Science Tools and Ecosystem are summarized."
   ]
  },
  {
   "cell_type": "markdown",
   "id": "5af464b2-0c51-4ac8-aee2-4627ba87cf8f",
   "metadata": {},
   "source": [
    "Some of the popular languages that Data Scientists use are:\n",
    "1. python\n",
    "2. r\n",
    "3. SQL\n",
    "4. java"
   ]
  },
  {
   "cell_type": "markdown",
   "id": "e2b03db3-7760-4f8e-b054-8a80986f4a18",
   "metadata": {},
   "source": [
    "Some of the commonly used libraries used by Data Scientists include:\n",
    "* nympy\n",
    "* pandas\n",
    "* matplotlib"
   ]
  },
  {
   "cell_type": "markdown",
   "id": "aab4edfd-29ab-45c9-94e4-65f167c78d1d",
   "metadata": {},
   "source": [
    "|Data Science Tools|\n",
    "|------------------|\n",
    "|SQL|\n",
    "|python|\n",
    "|r|"
   ]
  },
  {
   "cell_type": "markdown",
   "id": "64e4c9ac-3e5b-4a7e-8b04-b4ab372f48e2",
   "metadata": {},
   "source": [
    "### Below are a few examples of evaluating arithmetic expressions in Python"
   ]
  },
  {
   "cell_type": "code",
   "execution_count": 3,
   "id": "bed8885d-225e-4303-b740-4d77f415af32",
   "metadata": {},
   "outputs": [
    {
     "data": {
      "text/plain": [
       "17"
      ]
     },
     "execution_count": 3,
     "metadata": {},
     "output_type": "execute_result"
    }
   ],
   "source": [
    "# This a simple arithmetic expression to mutiply then add integers\n",
    "(3*4)+5"
   ]
  },
  {
   "cell_type": "code",
   "execution_count": 4,
   "id": "4c0a9e50-1960-4a8d-93d7-b7e0a7ff5a3e",
   "metadata": {},
   "outputs": [
    {
     "data": {
      "text/plain": [
       "3.3333333333333335"
      ]
     },
     "execution_count": 4,
     "metadata": {},
     "output_type": "execute_result"
    }
   ],
   "source": [
    "# his will convert 200 minutes to hours by diving by 60\n",
    "200/60"
   ]
  },
  {
   "cell_type": "markdown",
   "id": "fab23cb6-2225-4a9a-b0eb-b93bdc67dab2",
   "metadata": {},
   "source": [
    "**Objectives**\n",
    "* to learn python\n",
    "* to learn r\n",
    "* to learn ML\n"
   ]
  },
  {
   "cell_type": "markdown",
   "id": "2191d435-04f1-45ea-90e7-5bf2391ab0c7",
   "metadata": {},
   "source": [
    "## Author\n",
    "Aashish Subedi"
   ]
  },
  {
   "cell_type": "code",
   "execution_count": null,
   "id": "b2a7b501-aee3-4f37-92bc-57d3f0be91a7",
   "metadata": {},
   "outputs": [],
   "source": []
  }
 ],
 "metadata": {
  "kernelspec": {
   "display_name": "Python 3 (ipykernel)",
   "language": "python",
   "name": "python3"
  },
  "language_info": {
   "codemirror_mode": {
    "name": "ipython",
    "version": 3
   },
   "file_extension": ".py",
   "mimetype": "text/x-python",
   "name": "python",
   "nbconvert_exporter": "python",
   "pygments_lexer": "ipython3",
   "version": "3.9.13"
  }
 },
 "nbformat": 4,
 "nbformat_minor": 5
}
